{
 "cells": [
  {
   "cell_type": "code",
   "execution_count": 1,
   "id": "9506531a",
   "metadata": {},
   "outputs": [
    {
     "name": "stderr",
     "output_type": "stream",
     "text": [
      "2025-09-22 01:09:29,488 - TradingSystemOrchestrator - INFO - Loading market data from market_data.csv\n",
      "2025-09-22 01:09:29,492 - engine - INFO - Loaded 1500 ticks from market_data.csv\n",
      "2025-09-22 01:09:29,493 - TradingSystemOrchestrator - INFO - Successfully loaded 1500 market data points\n",
      "2025-09-22 01:09:29,493 - TradingSystemOrchestrator - ERROR - No strategies configured. Cannot run backtest.\n"
     ]
    },
    {
     "name": "stdout",
     "output_type": "stream",
     "text": [
      "Loading Market Data\n",
      "Executing Backtest\n",
      "Failed backtest.\n"
     ]
    }
   ],
   "source": [
    "from engine import ExecutionEngine\n",
    "# from main import run_complete_trading_system\n",
    "from main import run_strategy_list\n",
    "\n",
    "a = ExecutionEngine(failure_rate=0.0)\n",
    "\n",
    "run_strategy_list()\n",
    "# run_complete_trading_system()\n"
   ]
  },
  {
   "cell_type": "code",
   "execution_count": null,
   "id": "548bd153",
   "metadata": {},
   "outputs": [],
   "source": []
  }
 ],
 "metadata": {
  "kernelspec": {
   "display_name": ".venv",
   "language": "python",
   "name": "python3"
  },
  "language_info": {
   "codemirror_mode": {
    "name": "ipython",
    "version": 3
   },
   "file_extension": ".py",
   "mimetype": "text/x-python",
   "name": "python",
   "nbconvert_exporter": "python",
   "pygments_lexer": "ipython3",
   "version": "3.11.8"
  }
 },
 "nbformat": 4,
 "nbformat_minor": 5
}
